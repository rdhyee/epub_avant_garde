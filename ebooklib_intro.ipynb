{
 "cells": [
  {
   "cell_type": "markdown",
   "metadata": {},
   "source": [
    "# Some Goals for this hack \n",
    "\n",
    "Some context:  I did this hacking on Saturday, October 25, 2014 for [BiB 2014](http://booksinbrowsers.org/2014-program/) hack day.\n",
    "\n",
    "I wanted to learn a bit how about epub 2 & 3, specifically how to use Python to read and write epub files."
   ]
  },
  {
   "cell_type": "code",
   "execution_count": null,
   "metadata": {
    "collapsed": false
   },
   "outputs": [],
   "source": [
    "# enumerate ebooklib types\n",
    "import ebooklib\n",
    "\n",
    "print (ebooklib.VERSION)\n",
    "\n",
    "EBOOKLIB_TYPES = dict([(getattr(ebooklib,n), n) for n in dir(ebooklib) if n.startswith('ITEM_')])\n",
    "EBOOKLIB_TYPES"
   ]
  },
  {
   "cell_type": "code",
   "execution_count": null,
   "metadata": {
    "collapsed": false
   },
   "outputs": [],
   "source": [
    "from itertools import islice\n",
    "from ebooklib import epub\n",
    "\n",
    "book = epub.read_epub('Oral_Literature_in_Africa.epub')\n",
    "\n",
    "for (i, item) in enumerate(islice(book.get_items(),None)):\n",
    "    print i, item\n"
   ]
  },
  {
   "cell_type": "code",
   "execution_count": null,
   "metadata": {
    "collapsed": false
   },
   "outputs": [],
   "source": [
    "# let's iterate through to see what we can read\n",
    "\n",
    "from itertools import islice\n",
    "from ebooklib import epub\n",
    "\n",
    "book = epub.read_epub('Oral_Literature_in_Africa.epub')\n",
    "\n",
    "k = book.get_items()"
   ]
  },
  {
   "cell_type": "code",
   "execution_count": null,
   "metadata": {
    "collapsed": false
   },
   "outputs": [],
   "source": [
    "item = k.next()\n",
    "item"
   ]
  },
  {
   "cell_type": "code",
   "execution_count": null,
   "metadata": {
    "collapsed": false
   },
   "outputs": [],
   "source": [
    "import ebooklib\n",
    "ebooklib.ITEM_STYLE"
   ]
  },
  {
   "cell_type": "code",
   "execution_count": null,
   "metadata": {
    "collapsed": false
   },
   "outputs": [],
   "source": [
    "(item.file_name, item.get_type())"
   ]
  },
  {
   "cell_type": "code",
   "execution_count": null,
   "metadata": {
    "collapsed": false
   },
   "outputs": [],
   "source": [
    "from itertools import islice\n",
    "\n",
    "from ebooklib import epub\n",
    "\n",
    "book = epub.read_epub('invisible_eink/invisible_eink_widget.epub')\n",
    "\n",
    "for item in islice(book.get_items(),None):\n",
    "    print item\n"
   ]
  },
  {
   "cell_type": "code",
   "execution_count": null,
   "metadata": {
    "collapsed": false
   },
   "outputs": [],
   "source": [
    "from ebooklib import epub\n",
    "\n",
    "book = epub.EpubBook()\n",
    "\n",
    "# set metadata\n",
    "book.set_identifier('id123456')\n",
    "book.set_title('Sample book')\n",
    "book.set_language('en')\n",
    "\n",
    "book.add_author('Author Authorowski')\n",
    "book.add_author('Danko Bananko', file_as='Gospodin Danko Bananko', role='ill', uid='coauthor')\n",
    "\n",
    "# create chapter\n",
    "c1 = epub.EpubHtml(title='Intro', file_name='chap_01.xhtml', lang='hr')\n",
    "c1.content=u'<h1>Intro heading</h1><p>Žaba je skočila u baru.</p>'\n",
    "\n",
    "# add chapter\n",
    "book.add_item(c1)\n",
    "\n",
    "# define Table Of Contents\n",
    "book.toc = (epub.Link('chap_01.xhtml', 'Introduction', 'intro'),\n",
    "             (epub.Section('Simple book'),\n",
    "             (c1, ))\n",
    "            )\n",
    "\n",
    "# add default NCX and Nav file\n",
    "book.add_item(epub.EpubNcx())\n",
    "book.add_item(epub.EpubNav())\n",
    "\n",
    "# define CSS style\n",
    "style = 'BODY {color: white;}'\n",
    "nav_css = epub.EpubItem(uid=\"style_nav\", file_name=\"style/nav.css\", media_type=\"text/css\", content=style)\n",
    "\n",
    "# add CSS file\n",
    "book.add_item(nav_css)\n",
    "\n",
    "# basic spine\n",
    "book.spine = ['nav', c1]\n",
    "\n",
    "# write to the file\n",
    "epub.write_epub('test.epub', book, {})"
   ]
  },
  {
   "cell_type": "code",
   "execution_count": null,
   "metadata": {
    "collapsed": false
   },
   "outputs": [],
   "source": [
    "# try to programmatically generate the invisible_eink book\n",
    "\n",
    "from ebooklib import epub\n",
    "\n",
    "book = epub.EpubBook()\n",
    "\n",
    "book.set_title('RY book')\n",
    "book.set_language('en')\n",
    "\n",
    "book.add_author('Raymond Yee')\n",
    "\n",
    "# create chapter\n",
    "c1 = epub.EpubHtml(title='Introduction', file_name='chap_01.xhtml', lang='en')\n",
    "c1.content=u'<h1>Intro heading</h1><p>Hello world!</p>'\n",
    "\n",
    "# add chapter\n",
    "book.add_item(c1)\n",
    "\n",
    "# define Table Of Contents\n",
    "# epub.Link('chap_01.xhtml', 'Introduction'),\n",
    "book.toc = (\n",
    "             (epub.Section('Part 1'),\n",
    "               (c1, )),\n",
    "            )\n",
    "\n",
    "\n",
    "# add default NCX and Nav file\n",
    "book.add_item(epub.EpubNcx())\n",
    "book.add_item(epub.EpubNav())\n",
    "\n",
    "# basic spine\n",
    "book.spine = ['nav', c1]\n",
    "\n",
    "epub.write_epub(\"ry.epub\", book, {})"
   ]
  },
  {
   "cell_type": "markdown",
   "metadata": {},
   "source": [
    "      Length     Date   Time    Name\n",
    "     --------    ----   ----    ----\n",
    "           20  10-14-14 00:10   mimetype\n",
    "         1550  10-19-14 13:05   invisible_eink_widget/content.opf\n",
    "         1953  10-19-14 13:21   invisible_eink_widget/invisible_eink.js\n",
    "        91556  10-04-14 12:15   invisible_eink_widget/jquery-1.6.2.min.js\n",
    "          480  10-19-14 13:15   invisible_eink_widget/toc.ncx\n",
    "          374  10-19-14 13:15   invisible_eink_widget/toc01.html\n",
    "         2875  10-19-14 13:34   invisible_eink_widget/widget.html\n",
    "          256  10-19-14 13:04   META-INF/container.xml\n",
    "     --------                   -------\n"
   ]
  },
  {
   "cell_type": "code",
   "execution_count": null,
   "metadata": {
    "collapsed": false
   },
   "outputs": [],
   "source": [
    "# pieces of the invisible ebook\n",
    "\n",
    "import ebooklib\n",
    "from ebooklib import epub\n",
    "\n",
    "book = epub.EpubBook()\n",
    "\n",
    "book.set_title('Invisible e-ink 2')\n",
    "book.set_language('en')\n",
    "\n",
    "book.add_author('Raymond Yee')\n",
    "\n",
    "# create chapter\n",
    "# <EpubHtml:invisible_eink_widget:widget.html>\n",
    "c1 = epub.EpubHtml(title='invisible eink widget', file_name='widget.html', lang='en')\n",
    "c1.content = open(\"invisible_eink/invisible_eink.html\").read()\n",
    "\n",
    "# add chapter\n",
    "book.add_item(c1)\n",
    "\n",
    "#<EpubItem:invisible_eink_js>\n",
    "#<EpubItem:invisible_eink_jquery>\n",
    "\n",
    "c2 = epub.EpubItem(file_name='invisible_eink.js', media_type='text/javascript', \n",
    "                   content=open(\"invisible_eink/invisible_eink.js\").read())\n",
    "c3 = epub.EpubItem(file_name='jquery-1.6.2.min.js', media_type='text/javascript', \n",
    "                   content=open(\"invisible_eink/jquery-1.6.2.min.js\").read())\n",
    "\n",
    "book.add_item(c2)\n",
    "book.add_item(c3)\n",
    "\n",
    "# tie c2, c3 to c1 (to load scripts)\n",
    "assert c2.get_type() == ebooklib.ITEM_SCRIPT\n",
    "assert c3.get_type() == ebooklib.ITEM_SCRIPT\n",
    "\n",
    "c1.add_item(c3)\n",
    "c1.add_item(c2)\n",
    "\n",
    "# make up new text\n",
    "\n",
    "# create chapter\n",
    "c4 = epub.EpubHtml(title='Intro', file_name='chap_01.xhtml', lang='en')\n",
    "c4.content=u'<h1>Intro heading</h1><p class=\"invisible\">Hello -- I should start invisibly.</p>'\n",
    "\n",
    "# add chapter\n",
    "book.add_item(c4)\n",
    "\n",
    "c4.add_item(c3)\n",
    "c4.add_item(c2)\n",
    "\n",
    "# define Table Of Contents\n",
    "# <EpubNav:invisible_eink_toc:toc01.html>\n",
    "\n",
    "book.toc = (epub.Link('widget.html', 'Widget', 'widget'),\n",
    "             (epub.Section('invisible e-ink section'),\n",
    "             (c1, ))\n",
    "            )\n",
    "\n",
    "# /* Set default invisible content to have an opacity of 0 */\n",
    "\n",
    "\n",
    "# define CSS style\n",
    "style = \"\"\".invisible, .invisible_word {\n",
    "  opacity: 0;\n",
    "}\"\"\"\n",
    "\n",
    "nav_css = epub.EpubItem(uid=\"style_nav\", file_name=\"style/nav.css\", media_type=\"text/css\", content=style)\n",
    "\n",
    "# add CSS file to book\n",
    "book.add_item(nav_css)\n",
    "\n",
    "# add CSS file to c1\n",
    "\n",
    "assert nav_css.get_type() == ebooklib.ITEM_STYLE\n",
    "\n",
    "c1.add_item(nav_css)\n",
    "c4.add_item(nav_css)\n",
    "\n",
    "\n",
    "# add default NCX and Nav file\n",
    "# <EpubNcx:invisible_eink_toc_ncx>\n",
    "book.add_item(epub.EpubNcx())\n",
    "book.add_item(epub.EpubNav())\n",
    "\n",
    "# basic spine\n",
    "book.spine = ['nav', c1, c4]\n",
    "\n",
    "epub.write_epub(\"ry_eink.epub\", book, {})"
   ]
  },
  {
   "cell_type": "code",
   "execution_count": null,
   "metadata": {
    "collapsed": true
   },
   "outputs": [],
   "source": []
  }
 ],
 "metadata": {
  "anaconda-cloud": {},
  "kernelspec": {
   "display_name": "Python [default]",
   "language": "python",
   "name": "python2"
  },
  "language_info": {
   "codemirror_mode": {
    "name": "ipython",
    "version": 2
   },
   "file_extension": ".py",
   "mimetype": "text/x-python",
   "name": "python",
   "nbconvert_exporter": "python",
   "pygments_lexer": "ipython2",
   "version": "2.7.12"
  }
 },
 "nbformat": 4,
 "nbformat_minor": 0
}
